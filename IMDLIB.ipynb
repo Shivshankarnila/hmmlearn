{
  "nbformat": 4,
  "nbformat_minor": 0,
  "metadata": {
    "colab": {
      "provenance": [],
      "include_colab_link": true
    },
    "kernelspec": {
      "name": "python3",
      "display_name": "Python 3"
    },
    "language_info": {
      "name": "python"
    }
  },
  "cells": [
    {
      "cell_type": "markdown",
      "metadata": {
        "id": "view-in-github",
        "colab_type": "text"
      },
      "source": [
        "<a href=\"https://colab.research.google.com/github/Shivshankarnila/hmmlearn/blob/main/IMDLIB.ipynb\" target=\"_parent\"><img src=\"https://colab.research.google.com/assets/colab-badge.svg\" alt=\"Open In Colab\"/></a>"
      ]
    },
    {
      "cell_type": "code",
      "execution_count": 1,
      "metadata": {
        "id": "TfjD2mg2vqEa",
        "outputId": "c45f3180-df59-4510-89dd-066baf0fe41c",
        "colab": {
          "base_uri": "https://localhost:8080/"
        }
      },
      "outputs": [
        {
          "output_type": "stream",
          "name": "stdout",
          "text": [
            "Mounted at /content/drive\n"
          ]
        }
      ],
      "source": [
        "# Connect Google drive with Google colab\n",
        "from google.colab import drive\n",
        "drive.mount('/content/drive')"
      ]
    },
    {
      "cell_type": "code",
      "source": [
        "pip install imdlib"
      ],
      "metadata": {
        "id": "PtPYYBK4vujK",
        "outputId": "e7304a90-42a7-419e-e635-28bdcbf846a8",
        "colab": {
          "base_uri": "https://localhost:8080/"
        }
      },
      "execution_count": 2,
      "outputs": [
        {
          "output_type": "stream",
          "name": "stdout",
          "text": [
            "Collecting imdlib\n",
            "  Downloading imdlib-0.1.20-py3-none-any.whl.metadata (6.7 kB)\n",
            "Requirement already satisfied: matplotlib in /usr/local/lib/python3.11/dist-packages (from imdlib) (3.10.0)\n",
            "Requirement already satisfied: numpy in /usr/local/lib/python3.11/dist-packages (from imdlib) (2.0.2)\n",
            "Requirement already satisfied: pandas in /usr/local/lib/python3.11/dist-packages (from imdlib) (2.2.2)\n",
            "Requirement already satisfied: six in /usr/local/lib/python3.11/dist-packages (from imdlib) (1.17.0)\n",
            "Requirement already satisfied: python-dateutil in /usr/local/lib/python3.11/dist-packages (from imdlib) (2.9.0.post0)\n",
            "Requirement already satisfied: pytz in /usr/local/lib/python3.11/dist-packages (from imdlib) (2025.2)\n",
            "Requirement already satisfied: urllib3 in /usr/local/lib/python3.11/dist-packages (from imdlib) (2.4.0)\n",
            "Requirement already satisfied: scipy in /usr/local/lib/python3.11/dist-packages (from imdlib) (1.15.3)\n",
            "Requirement already satisfied: xarray in /usr/local/lib/python3.11/dist-packages (from imdlib) (2025.3.1)\n",
            "Requirement already satisfied: requests in /usr/local/lib/python3.11/dist-packages (from imdlib) (2.32.3)\n",
            "Requirement already satisfied: contourpy>=1.0.1 in /usr/local/lib/python3.11/dist-packages (from matplotlib->imdlib) (1.3.2)\n",
            "Requirement already satisfied: cycler>=0.10 in /usr/local/lib/python3.11/dist-packages (from matplotlib->imdlib) (0.12.1)\n",
            "Requirement already satisfied: fonttools>=4.22.0 in /usr/local/lib/python3.11/dist-packages (from matplotlib->imdlib) (4.58.1)\n",
            "Requirement already satisfied: kiwisolver>=1.3.1 in /usr/local/lib/python3.11/dist-packages (from matplotlib->imdlib) (1.4.8)\n",
            "Requirement already satisfied: packaging>=20.0 in /usr/local/lib/python3.11/dist-packages (from matplotlib->imdlib) (24.2)\n",
            "Requirement already satisfied: pillow>=8 in /usr/local/lib/python3.11/dist-packages (from matplotlib->imdlib) (11.2.1)\n",
            "Requirement already satisfied: pyparsing>=2.3.1 in /usr/local/lib/python3.11/dist-packages (from matplotlib->imdlib) (3.2.3)\n",
            "Requirement already satisfied: tzdata>=2022.7 in /usr/local/lib/python3.11/dist-packages (from pandas->imdlib) (2025.2)\n",
            "Requirement already satisfied: charset-normalizer<4,>=2 in /usr/local/lib/python3.11/dist-packages (from requests->imdlib) (3.4.2)\n",
            "Requirement already satisfied: idna<4,>=2.5 in /usr/local/lib/python3.11/dist-packages (from requests->imdlib) (3.10)\n",
            "Requirement already satisfied: certifi>=2017.4.17 in /usr/local/lib/python3.11/dist-packages (from requests->imdlib) (2025.4.26)\n",
            "Downloading imdlib-0.1.20-py3-none-any.whl (21 kB)\n",
            "Installing collected packages: imdlib\n",
            "Successfully installed imdlib-0.1.20\n"
          ]
        }
      ]
    },
    {
      "cell_type": "code",
      "source": [
        "# Download the IMD raw data into the google drive\n",
        "import imdlib as imd\n",
        "import pandas as pd\n",
        "import geopandas as gpd\n",
        "from shapely.geometry import Point, Polygon\n",
        "\n",
        "path = \"/content/drive/MyDrive/Colab Notebooks\"\n",
        "\n",
        "start_yr = 2015\n",
        "end_yr = 2020\n",
        "variable = 'rain' # other options are ('tmin'/ 'tmax')\n",
        "\n",
        "# Download daily data\n",
        "imd.get_data(variable, start_yr, end_yr, fn_format='daily', file_dir=path)\n",
        "\n",
        "# Open daily data\n",
        "data = imd.open_data(variable, start_yr, end_yr, fn_format='daily', file_dir=path)\n",
        "\n",
        "#imd.get_data(variable, start_yr, end_yr, fn_format='yearwise', file_dir=path)\n",
        "#data = imd.open_data(variable, start_yr, end_yr,'yearwise', path)\n",
        "ds = data.get_xarray()\n",
        "print(ds)\n",
        "\n"
      ],
      "metadata": {
        "id": "dxoZ92AHvwNr"
      },
      "execution_count": null,
      "outputs": []
    },
    {
      "cell_type": "code",
      "source": [
        "# Provide the alttitude & Longitude of a point for which the data is required\n",
        "#  And save the data into CSV file\n",
        "\n",
        "lat = 20.03 #lattitude of point\n",
        "lon = 77.23 #longitude of point\n",
        "data.to_csv('data.csv', lat, lon, path)"
      ],
      "metadata": {
        "id": "jMlaw45Dv5UE"
      },
      "execution_count": null,
      "outputs": []
    },
    {
      "cell_type": "code",
      "source": [
        "# Save CSV files for multiple points\n",
        "\n",
        "# Provide lat and long in a list\n",
        "latLong = [[20.3,77.23],[23.5,72.5],[26.0,77,1]]\n",
        "\n",
        "for points in latLong:\n",
        "  lat = points[0]\n",
        "  lon = points[1]\n",
        "\n",
        "  data.to_csv('test.csv', lat, lon, path)\n",
        "  print (\"data save for \",points)"
      ],
      "metadata": {
        "id": "o5BHr3Fev3W6"
      },
      "execution_count": null,
      "outputs": []
    },
    {
      "cell_type": "code",
      "source": [
        "#  Provide the Geojson file of a catchment or polygon to dowlnaod all the gridded data lying into that polygon\n",
        "\n",
        "geojson_file = '/content/drive/MyDrive/IMD/Test_geojson.geojson'\n",
        "\n",
        "\n",
        "url=\"https://drive.google.com/file/d/111XvmUzvTlhY2lbFMseGVhZQh4pisFXQ/view?usp=sharing\"\n",
        "url2='https://drive.google.com/uc?id=' + url.split('/')[-2]\n",
        "\n",
        "points_df = pd.read_csv(url2)\n",
        "\n",
        "\n",
        "geometry = [Point(xy) for xy in zip(points_df['Long'], points_df['Lat'])]\n",
        "\n",
        "# Creating the GeoDataFrame\n",
        "gdf_points = gpd.GeoDataFrame(points_df, geometry=geometry)\n",
        "\n",
        "# Set a CRS (coordinate reference system), EPSG:4326 is WGS84 Lat/Long\n",
        "gdf_points.set_crs(epsg=4326, inplace=True)\n",
        "\n",
        "\n",
        "gdf_polygon = gpd.read_file(geojson_file)\n",
        "\n",
        "# Ensure both GeoDataFrames use the same CRS\n",
        "if gdf_points.crs != gdf_polygon.crs:\n",
        "    gdf_points = gdf_points.to_crs(gdf_polygon.crs)\n",
        "\n",
        "gdf_list = []\n",
        "for row in range (len(gdf_polygon)):\n",
        "    points_in_polygon = gdf_points[gdf_points.within(gdf_polygon.iloc[row].geometry)]\n",
        "    gdf_list.append(points_in_polygon)\n",
        "\n",
        "final_gdf = gpd.GeoDataFrame(pd.concat(gdf_list, ignore_index=True))\n",
        "\n",
        "final_df = final_gdf[[\"Name\",\"Lat\",\"Long\"]]\n",
        "final_df.to_csv(\"Master_file.csv\")\n",
        "\n",
        "for index, row in final_df.iterrows():\n",
        "    lat = row['Lat']\n",
        "    lon = row['Long']\n",
        "    data.to_csv('test.csv', lat, lon, path)\n",
        "    print (\"data save for \" + str(lat)+ \"_\" +str(lon))"
      ],
      "metadata": {
        "id": "A_tNtQFPv61j"
      },
      "execution_count": null,
      "outputs": []
    }
  ]
}